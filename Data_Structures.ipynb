{
  "nbformat": 4,
  "nbformat_minor": 0,
  "metadata": {
    "colab": {
      "provenance": []
    },
    "kernelspec": {
      "name": "python3",
      "display_name": "Python 3"
    },
    "language_info": {
      "name": "python"
    }
  },
  "cells": [
    {
      "cell_type": "code",
      "execution_count": null,
      "metadata": {
        "id": "JLXQVGtcgC2J"
      },
      "outputs": [],
      "source": []
    },
    {
      "cell_type": "markdown",
      "source": [
        "Data Types and Structures Questions\n",
        "\n"
      ],
      "metadata": {
        "id": "QHQKVhTehQ9X"
      }
    },
    {
      "cell_type": "markdown",
      "source": [
        "# 1."
      ],
      "metadata": {
        "id": "qT-t8hI5haHi"
      }
    },
    {
      "cell_type": "markdown",
      "source": [
        "**Data Types and Structures Questions**\n",
        "\n",
        "# 1. What are data structures, and why are they important?\n",
        "Ans: **Data structures** are ways of organizing and storing data in a computer so that it can be accessed and manipulated efficiently. They define the layout of data in memory and provide the operations that can be performed on the data, such as inserting, deleting, or searching for values.\n",
        "\n",
        "They come in many different forms, each suited for different kinds of tasks. Common examples of data structures include:\n",
        "\n",
        "1. **Arrays/Lists**: A collection of elements (often of the same type), which are stored in a contiguous block of memory. Lists in Python are dynamic and can store mixed types.\n",
        "   - Example: `[1, 2, 3, 4]`\n",
        "\n",
        "2. **Tuples**: Similar to lists but **immutable**, meaning their values cannot be changed after creation.\n",
        "   - Example: `(1, 2, 3, 4)`\n",
        "\n",
        "3. **Stacks**: A collection of elements that follows the **Last In, First Out (LIFO)** principle, where the most recently added element is the first one to be removed.\n",
        "   - Example: A stack for undo functionality in a text editor.\n",
        "\n",
        "4. **Queues**: A collection of elements that follows the **First In, First Out (FIFO)** principle, where the first element added is the first one to be removed.\n",
        "   - Example: A line at a checkout counter.\n",
        "\n",
        "5. **Dictionaries/Maps**: A collection of key-value pairs, where each key maps to a specific value. Dictionaries in Python are unordered and allow fast lookup by key.\n",
        "   - Example: `{'name': 'Alice', 'age': 25}`\n",
        "\n",
        "6. **Sets**: An unordered collection of unique elements. Sets are useful for membership tests and eliminating duplicates.\n",
        "   - Example: `{1, 2, 3, 4}`\n",
        "\n",
        "7. **Trees**: A hierarchical data structure with a root element and sub-elements (children), often used for representing hierarchical relationships.\n",
        "   - Example: A file directory structure.\n",
        "\n",
        "8. **Graphs**: A collection of nodes (or vertices) and edges connecting them, used to represent relationships between different elements, such as social networks or maps.\n",
        "\n",
        "---\n",
        "\n",
        "### Why are Data Structures Important?\n",
        "\n",
        "1. **Efficiency**: Data structures help you store and organize data in ways that make it easier and faster to perform operations like searching, sorting, insertion, and deletion. For example, searching in a sorted array is much faster than searching in an unsorted one.\n",
        "\n",
        "2. **Performance Optimization**: Choosing the right data structure can significantly improve the performance of your program. For example, if you need fast lookups, using a dictionary or a set is typically much faster than using a list.\n",
        "\n",
        "3. **Solving Complex Problems**: Many algorithms and problems require efficient data structures to solve them. For instance, algorithms for graph traversal (e.g., Depth-First Search or Breadth-First Search) rely heavily on graph data structures.\n",
        "\n",
        "4. **Memory Management**: Data structures help manage memory efficiently by organizing data in ways that minimize space usage or improve access speed.\n",
        "\n",
        "5. **Maintainability**: The right data structure makes it easier to write clear, maintainable, and reusable code. When the data is organized properly, the code becomes more readable and understandable.\n",
        "\n",
        "---\n",
        "\n",
        "### Example of Choosing a Data Structure\n",
        "\n",
        "Let's say you're working on a program that needs to keep track of students' names and scores, and you need to look up a student's score quickly. Using a **dictionary** (key-value pairs) would be ideal:\n",
        "\n",
        "```python\n",
        "student_scores = {'Alice': 85, 'Bob': 92, 'Charlie': 78}\n",
        "print(student_scores['Alice'])  # Fast lookup, Output: 85\n",
        "```\n",
        "\n",
        "If you instead used a **list**, it would take longer to search for a student by name, especially if the list grows large.\n",
        "\n",
        "In summary, data structures help make your programs more efficient, easier to understand, and capable of solving complex problems. Selecting the right one for a task is a key part of programming."
      ],
      "metadata": {
        "id": "9gCwN_EgaWJ5"
      }
    },
    {
      "cell_type": "markdown",
      "source": [
        "# 2. Explain the difference between mutable and immutable data types with examples?\n",
        "\n",
        "Ans: In Python, **mutable** and **immutable** data types refer to whether or not the value of a data type can be changed after it has been created.\n",
        "\n",
        "### **Mutable Data Types**\n",
        "A **mutable** data type is one whose value can be changed after it is created. You can modify, add, or remove elements from a mutable object without changing its identity.\n",
        "\n",
        "#### Examples of Mutable Data Types:\n",
        "1. **Lists**:\n",
        "   - Lists are mutable, meaning you can change their elements or modify their size.\n",
        "   - Example:\n",
        "     ```python\n",
        "     my_list = [1, 2, 3]\n",
        "     my_list[0] = 4  # Changing the first element\n",
        "     my_list.append(5)  # Adding a new element\n",
        "     print(my_list)  # Output: [4, 2, 3, 5]\n",
        "     ```\n",
        "\n",
        "2. **Dictionaries**:\n",
        "   - Dictionaries are mutable, and you can modify their keys and values.\n",
        "   - Example:\n",
        "     ```python\n",
        "     my_dict = {'name': 'Alice', 'age': 25}\n",
        "     my_dict['age'] = 26  # Modifying the value associated with the 'age' key\n",
        "     my_dict['city'] = 'New York'  # Adding a new key-value pair\n",
        "     print(my_dict)  # Output: {'name': 'Alice', 'age': 26, 'city': 'New York'}\n",
        "     ```\n",
        "\n",
        "3. **Sets**:\n",
        "   - Sets are mutable; you can add or remove elements.\n",
        "   - Example:\n",
        "     ```python\n",
        "     my_set = {1, 2, 3}\n",
        "     my_set.add(4)  # Adding an element\n",
        "     my_set.remove(2)  # Removing an element\n",
        "     print(my_set)  # Output: {1, 3, 4}\n",
        "     ```\n",
        "\n",
        "### **Immutable Data Types**\n",
        "An **immutable** data type is one whose value cannot be changed after it is created. Any operation that attempts to modify the data will result in the creation of a new object.\n",
        "\n",
        "#### Examples of Immutable Data Types:\n",
        "1. **Tuples**:\n",
        "   - Tuples are immutable, meaning you cannot modify their elements after creation.\n",
        "   - Example:\n",
        "     ```python\n",
        "     my_tuple = (1, 2, 3)\n",
        "     # Trying to change an element will result in an error\n",
        "     # my_tuple[0] = 4  # This will raise a TypeError\n",
        "     print(my_tuple)  # Output: (1, 2, 3)\n",
        "     ```\n",
        "\n",
        "2. **Strings**:\n",
        "   - Strings are immutable, so any operation that changes a string will create a new string.\n",
        "   - Example:\n",
        "     ```python\n",
        "     my_string = \"hello\"\n",
        "     new_string = my_string.upper()  # Creates a new string\n",
        "     print(my_string)  # Output: \"hello\"\n",
        "     print(new_string)  # Output: \"HELLO\"\n",
        "     ```\n",
        "\n",
        "3. **Integers**:\n",
        "   - Integers are immutable in Python. When you modify an integer, you are actually creating a new integer object.\n",
        "   - Example:\n",
        "     ```python\n",
        "     x = 10\n",
        "     x = x + 5  # This creates a new integer object\n",
        "     print(x)  # Output: 15\n",
        "     ```\n",
        "\n",
        "4. **Frozen Sets**:\n",
        "   - Frozen sets are immutable sets. You cannot add or remove elements after creation.\n",
        "   - Example:\n",
        "     ```python\n",
        "     my_frozen_set = frozenset([1, 2, 3])\n",
        "     # my_frozen_set.add(4)  # This will raise an error\n",
        "     print(my_frozen_set)  # Output: frozenset({1, 2, 3})\n",
        "     ```\n",
        "\n",
        "### **Key Differences Between Mutable and Immutable Data Types**\n",
        "| **Feature**                | **Mutable**                                   | **Immutable**                                  |\n",
        "|----------------------------|-----------------------------------------------|------------------------------------------------|\n",
        "| **Change after creation**   | Can be changed (elements can be added/removed/modified) | Cannot be changed; any modification creates a new object |\n",
        "| **Example types**           | Lists, Dictionaries, Sets, Custom objects     | Tuples, Strings, Integers, Frozen sets         |\n",
        "| **Memory management**       | Changing a mutable object can affect the original object in memory | Modifying an immutable object creates a new object, leaving the original unchanged |\n",
        "| **Hashable**                | Generally, mutable objects are not hashable (cannot be used as dictionary keys) | Immutable objects are hashable and can be used as dictionary keys (e.g., tuples, strings) |\n",
        "\n",
        "### Why Does the Difference Matter?\n",
        "- **Mutable types** are more flexible, but you need to be careful because they can change unexpectedly, especially when shared across multiple references. This can lead to bugs or unintended side effects.\n",
        "- **Immutable types** offer safety by preventing accidental modifications. They are often used when you want to ensure that data remains constant throughout the lifetime of the program, which can make your code more predictable and easier to debug.\n",
        "\n",
        "In short, whether to use a mutable or immutable type depends on the needs of your program and whether or not you need the flexibility to change data after its creation."
      ],
      "metadata": {
        "id": "Qn7Jjrf2aro8"
      }
    },
    {
      "cell_type": "markdown",
      "source": [
        "# 3. What are the main differences between lists and tuples in Python\n",
        "\n",
        "Ans: In Python, both **lists** and **tuples** are used to store collections of items. However, they have some important differences. Here's a comparison between the two:\n",
        "\n",
        "### **Main Differences Between Lists and Tuples**\n",
        "\n",
        "| **Feature**                | **List**                                 | **Tuple**                                 |\n",
        "|----------------------------|------------------------------------------|-------------------------------------------|\n",
        "| **Mutability**             | Lists are **mutable** (can be changed after creation). You can add, remove, or modify elements. | Tuples are **immutable** (cannot be changed after creation). Once created, their elements can't be modified, added, or removed. |\n",
        "| **Syntax**                 | Defined using square brackets `[]`.      | Defined using parentheses `()`.           |\n",
        "| **Performance**            | Lists are generally slower than tuples due to their mutability. | Tuples are generally faster than lists due to their immutability. |\n",
        "| **Memory Usage**           | Lists consume more memory because they need extra space for managing mutability. | Tuples consume less memory compared to lists because they are fixed in size. |\n",
        "| **Methods Available**      | Lists have many built-in methods like `.append()`, `.remove()`, `.pop()`, `.extend()`, and `.sort()`. | Tuples have fewer methods, mainly `.count()` and `.index()`. |\n",
        "| **Use Case**               | Lists are used when you need to store a collection of items that might change (add, remove, modify elements). | Tuples are used when you need to store a collection of items that should remain constant and won't change. |\n",
        "| **Can Be Used as Dictionary Keys?** | Lists **cannot** be used as dictionary keys because they are mutable. | Tuples **can** be used as dictionary keys because they are immutable. |\n",
        "| **Nested Data**            | Lists can contain other lists (or any other data types), and these inner lists can be modified. | Tuples can also contain other tuples (or any other data types), but these inner tuples cannot be modified. |\n",
        "\n",
        "---\n",
        "\n",
        "### **Examples**\n",
        "\n",
        "#### **List Example (Mutable)**\n",
        "\n",
        "```python\n",
        "my_list = [1, 2, 3]\n",
        "my_list[0] = 4  # Modify an element\n",
        "my_list.append(5)  # Add a new element\n",
        "print(my_list)  # Output: [4, 2, 3, 5]\n",
        "```\n",
        "\n",
        "#### **Tuple Example (Immutable)**\n",
        "\n",
        "```python\n",
        "my_tuple = (1, 2, 3)\n",
        "# my_tuple[0] = 4  # This would raise an error because tuples are immutable\n",
        "# my_tuple.append(5)  # This would also raise an error\n",
        "print(my_tuple)  # Output: (1, 2, 3)\n",
        "```\n",
        "\n",
        "### **Summary of When to Use Each**\n",
        "\n",
        "- **Use lists** when:\n",
        "  - You need a collection of items that may need to be changed (add, remove, modify).\n",
        "  - Performance is not a major concern.\n",
        "  - You need a lot of built-in methods to manipulate your data.\n",
        "\n",
        "- **Use tuples** when:\n",
        "  - You want a collection of items that should not change (e.g., fixed values).\n",
        "  - You need to ensure the data remains constant and want to prevent accidental modification.\n",
        "  - You need to use the collection as a dictionary key (since tuples are hashable and lists are not).\n",
        "\n",
        "In general, if you don't need to modify the data, tuples are preferred for better performance and memory efficiency. Lists are better suited for cases where the data needs to be updated."
      ],
      "metadata": {
        "id": "05UDZWwebI6S"
      }
    },
    {
      "cell_type": "markdown",
      "source": [
        "# 4.  Describe how dictionaries store data?\n",
        "Ans: In Python, a **dictionary** is a built-in data structure that stores data in **key-value pairs**. Each key in a dictionary is unique, and each key is associated with a specific value. This allows for efficient data retrieval based on the key.\n",
        "\n",
        "### **How Dictionaries Store Data**\n",
        "\n",
        "1. **Key-Value Pair**:\n",
        "   - A dictionary consists of pairs where each **key** maps to a **value**.\n",
        "   - The key must be **hashable** (i.e., it must be an immutable type, such as a string, integer, or tuple). The value can be any Python object, including other dictionaries, lists, or even functions.\n",
        "\n",
        "   Example:\n",
        "   ```python\n",
        "   my_dict = {'name': 'Alice', 'age': 25, 'city': 'New York'}\n",
        "   ```\n",
        "   Here:\n",
        "   - `'name'`, `'age'`, and `'city'` are **keys**.\n",
        "   - `'Alice'`, `25`, and `'New York'` are the **values** associated with those keys.\n",
        "\n",
        "2. **Hashing Mechanism**:\n",
        "   - Dictionaries use a **hash table** (a type of associative array) under the hood to store the key-value pairs.\n",
        "   - When you insert a new key-value pair, the key is passed through a **hash function** that computes a hash value, which is then used to determine where to store the key-value pair in memory.\n",
        "   - This allows for very **fast lookups**. Instead of searching through all the items in the dictionary, Python can quickly compute where the key-value pair is stored using the hash.\n",
        "\n",
        "3. **Efficiency**:\n",
        "   - Dictionaries are designed for **constant-time complexity (O(1))** lookups, insertions, and deletions on average.\n",
        "   - However, hash collisions can occur if two keys produce the same hash value. In such cases, Python uses techniques like **open addressing** or **chaining** to resolve collisions.\n",
        "\n",
        "4. **Key Uniqueness**:\n",
        "   - Each key in a dictionary must be unique. If you try to add a new key-value pair with a key that already exists, the old value associated with that key will be overwritten with the new one.\n",
        "\n",
        "   Example:\n",
        "   ```python\n",
        "   my_dict = {'name': 'Alice', 'age': 25}\n",
        "   my_dict['age'] = 26  # Overwriting the value of 'age'\n",
        "   print(my_dict)  # Output: {'name': 'Alice', 'age': 26}\n",
        "   ```\n",
        "\n",
        "5. **Ordering**:\n",
        "   - Starting from Python 3.7, dictionaries preserve the **insertion order** of keys. This means that if you insert the keys in a certain order, that order will be maintained when you iterate over the dictionary.\n",
        "   - In Python 3.6 and earlier, the ordering of keys was **not guaranteed**.\n",
        "\n",
        "### **Dictionary Operations**\n",
        "\n",
        "1. **Accessing Values**:\n",
        "   - Values are accessed using their corresponding keys.\n",
        "   ```python\n",
        "   my_dict = {'name': 'Alice', 'age': 25}\n",
        "   print(my_dict['name'])  # Output: Alice\n",
        "   ```\n",
        "\n",
        "2. **Adding/Updating Key-Value Pairs**:\n",
        "   - You can add new key-value pairs or update existing ones by specifying the key.\n",
        "   ```python\n",
        "   my_dict['city'] = 'New York'  # Adding a new key-value pair\n",
        "   my_dict['age'] = 26  # Updating the value associated with 'age'\n",
        "   ```\n",
        "\n",
        "3. **Deleting Key-Value Pairs**:\n",
        "   - You can remove key-value pairs using the `del` statement or the `.pop()` method.\n",
        "   ```python\n",
        "   del my_dict['age']  # Removes the key 'age' and its associated value\n",
        "   city = my_dict.pop('city')  # Removes 'city' and returns its value\n",
        "   print(my_dict)  # Output: {'name': 'Alice'}\n",
        "   ```\n",
        "\n",
        "4. **Checking if a Key Exists**:\n",
        "   - You can check whether a key exists in a dictionary using the `in` operator.\n",
        "   ```python\n",
        "   print('name' in my_dict)  # Output: True\n",
        "   print('age' in my_dict)   # Output: False\n",
        "   ```\n",
        "\n",
        "5. **Iterating Over a Dictionary**:\n",
        "   - You can iterate over the keys, values, or key-value pairs of a dictionary.\n",
        "   ```python\n",
        "   for key, value in my_dict.items():\n",
        "       print(key, value)\n",
        "   ```\n",
        "\n",
        "---\n",
        "\n",
        "### **Example of a Dictionary in Python**\n",
        "\n",
        "```python\n",
        "# Create a dictionary\n",
        "person = {\n",
        "    'name': 'John',\n",
        "    'age': 30,\n",
        "    'job': 'Engineer',\n",
        "    'city': 'San Francisco'\n",
        "}\n",
        "\n",
        "# Access a value\n",
        "print(person['name'])  # Output: John\n",
        "\n",
        "# Add a new key-value pair\n",
        "person['email'] = 'john@example.com'\n",
        "\n",
        "# Update an existing value\n",
        "person['age'] = 31\n",
        "\n",
        "# Remove a key-value pair\n",
        "del person['job']\n",
        "\n",
        "# Check if a key exists\n",
        "print('name' in person)  # Output: True\n",
        "print('job' in person)   # Output: False\n",
        "\n",
        "# Iterate over key-value pairs\n",
        "for key, value in person.items():\n",
        "    print(key, value)\n",
        "```\n",
        "\n",
        "---\n",
        "\n",
        "### **Summary**\n",
        "- **Dictionaries** store data in key-value pairs.\n",
        "- **Keys** are unique, immutable, and used to retrieve associated **values**.\n",
        "- They use a **hash table** internally for fast lookups, insertions, and deletions.\n",
        "- Dictionaries are efficient, with average constant-time complexity for key-based operations.\n",
        "- They preserve the **insertion order** of keys (from Python 3.7 onwards).\n",
        "\n",
        "Dictionaries are a powerful and flexible data structure for situations where you need to associate unique identifiers (keys) with specific data (values).\n"
      ],
      "metadata": {
        "id": "BZD4oeYJbV19"
      }
    },
    {
      "cell_type": "markdown",
      "source": [
        "# 5. Why might you use a set instead of a list in Python?\n",
        "Ans: You might choose to use a **set** instead of a **list** in Python when you need a collection that has the following characteristics:\n",
        "\n",
        "### 1. **Uniqueness of Elements**\n",
        "   - **Sets** automatically enforce **uniqueness** of elements. If you try to add a duplicate item to a set, it simply won’t be added.\n",
        "   - **Lists**, on the other hand, allow duplicates, meaning you can have multiple occurrences of the same item.\n",
        "\n",
        "   **Use a set when** you need to ensure that your collection contains only unique elements.\n",
        "   \n",
        "   **Example**:\n",
        "   ```python\n",
        "   my_set = {1, 2, 3, 4}\n",
        "   my_set.add(4)  # No effect because 4 is already in the set\n",
        "   print(my_set)  # Output: {1, 2, 3, 4}\n",
        "\n",
        "   my_list = [1, 2, 3, 4, 4]\n",
        "   print(my_list)  # Output: [1, 2, 3, 4, 4]\n",
        "   ```\n",
        "\n",
        "### 2. **Fast Membership Testing**\n",
        "   - **Sets** are implemented using hash tables, which allows for **fast membership testing** (checking if an item is in the set) with **average time complexity of O(1)**.\n",
        "   - **Lists** require a linear search to check membership, meaning the time complexity is O(n), which can be slower for large collections.\n",
        "\n",
        "   **Use a set when** you need to frequently check if an item exists in the collection.\n",
        "   \n",
        "   **Example**:\n",
        "   ```python\n",
        "   my_set = {1, 2, 3, 4}\n",
        "   print(3 in my_set)  # Output: True\n",
        "\n",
        "   my_list = [1, 2, 3, 4]\n",
        "   print(3 in my_list)  # Output: True (but slower than a set for large lists)\n",
        "   ```\n",
        "\n",
        "### 3. **Performance on Set Operations (Union, Intersection, Difference)**\n",
        "   - **Sets** are optimized for mathematical set operations, such as **union**, **intersection**, and **difference**. These operations can be done very efficiently with sets, often in linear time.\n",
        "   - **Lists** do not have built-in methods for set operations, and performing these operations manually would generally be less efficient.\n",
        "\n",
        "   **Use a set when** you need to perform operations like finding common elements, combining sets, or finding the difference between sets.\n",
        "\n",
        "   **Example** (Set operations):\n",
        "   ```python\n",
        "   set_a = {1, 2, 3, 4}\n",
        "   set_b = {3, 4, 5, 6}\n",
        "\n",
        "   # Union (all unique elements from both sets)\n",
        "   print(set_a | set_b)  # Output: {1, 2, 3, 4, 5, 6}\n",
        "\n",
        "   # Intersection (common elements)\n",
        "   print(set_a & set_b)  # Output: {3, 4}\n",
        "\n",
        "   # Difference (elements in set_a not in set_b)\n",
        "   print(set_a - set_b)  # Output: {1, 2}\n",
        "   ```\n",
        "\n",
        "   These operations are much more efficient with sets than if you had to manually loop through lists.\n",
        "\n",
        "### 4. **Unordered Collection**\n",
        "   - **Sets** are **unordered**, meaning they do not maintain the order of elements. If you don’t need to maintain the order of items, sets are a good choice.\n",
        "   - **Lists** maintain the order of elements, which might be necessary if the order of insertion matters.\n",
        "\n",
        "   **Use a set when** the order of elements doesn’t matter, and you just care about the presence of the items.\n",
        "\n",
        "   **Example**:\n",
        "   ```python\n",
        "   my_set = {4, 3, 2, 1}\n",
        "   print(my_set)  # Output could be {1, 2, 3, 4} (order is not guaranteed)\n",
        "\n",
        "   my_list = [4, 3, 2, 1]\n",
        "   print(my_list)  # Output: [4, 3, 2, 1] (order is preserved)\n",
        "   ```\n",
        "\n",
        "### 5. **Memory Efficiency**\n",
        "   - **Sets** tend to be more memory-efficient than lists when it comes to storing large numbers of unique elements, as they don’t need to store duplicate values.\n",
        "   - **Lists** may consume more memory if there are many duplicates.\n",
        "\n",
        "   **Use a set when** you are dealing with a collection of elements where duplicates are not needed, as this can reduce memory usage.\n",
        "\n",
        "---\n",
        "\n",
        "### **When Not to Use a Set**\n",
        "While sets have many advantages, there are situations where you should **not** use a set:\n",
        "\n",
        "- **When order matters**: If the order of elements is important (for example, maintaining the sequence of items), a **list** is the better choice, as sets are unordered.\n",
        "- **When you need to access elements by index**: Lists allow you to access elements by their index (e.g., `my_list[0]`), while sets do not support indexing because they are unordered.\n",
        "\n",
        "---\n",
        "\n",
        "### **Summary**\n",
        "- **Use a set when**:\n",
        "  - You need to store only **unique elements**.\n",
        "  - You need to **test membership** quickly.\n",
        "  - You need to perform **set operations** (union, intersection, etc.).\n",
        "  - You don’t care about the **order** of the elements.\n",
        "\n",
        "- **Use a list when**:\n",
        "  - You need to **store duplicates**.\n",
        "  - You need to maintain the **order** of elements.\n",
        "  - You need to **access elements by index**.\n",
        "\n",
        "Each data structure is designed for different use cases, and understanding when to use a set vs. a list will help you make more efficient and effective decisions in your code."
      ],
      "metadata": {
        "id": "a6mJ85GjbkKo"
      }
    },
    {
      "cell_type": "markdown",
      "source": [
        "# 6. What is a string in Python, and how is it different from a list?\n",
        "Ans: In Python, a **string** is a **sequence of characters** enclosed in single (`'`) or double (`\"`) quotes. It is a fundamental data type used to represent text. Strings are immutable, which means once a string is created, it cannot be changed.\n",
        "\n",
        "### **String in Python**\n",
        "- A string is a **sequence** of characters, such as letters, digits, punctuation, and spaces.\n",
        "- Strings are enclosed in single quotes (`'`) or double quotes (`\"`), and you can use triple quotes (`'''` or `\"\"\"`) for multi-line strings.\n",
        "- Strings support operations like indexing, slicing, and various built-in methods (e.g., `.upper()`, `.lower()`, `.replace()`).\n",
        "\n",
        "#### Example of a String:\n",
        "```python\n",
        "my_string = \"Hello, World!\"\n",
        "print(my_string)  # Output: Hello, World!\n",
        "```\n",
        "\n",
        "### **Lists in Python**\n",
        "A **list** is an ordered collection of items, which can be of any data type, including strings, numbers, or even other lists. Lists are **mutable**, meaning you can change their contents by adding, removing, or modifying elements after the list is created.\n",
        "\n",
        "#### Example of a List:\n",
        "```python\n",
        "my_list = [1, 2, 3, 'apple', 'banana']\n",
        "print(my_list)  # Output: [1, 2, 3, 'apple', 'banana']\n",
        "```\n",
        "\n",
        "### **Key Differences Between Strings and Lists**\n",
        "\n",
        "| **Feature**            | **String**                                 | **List**                                   |\n",
        "|------------------------|--------------------------------------------|--------------------------------------------|\n",
        "| **Data Type**          | A string is a sequence of characters.      | A list is an ordered collection of elements. |\n",
        "| **Mutability**         | **Immutable**: Once created, a string cannot be changed. | **Mutable**: You can modify, add, or remove elements in a list. |\n",
        "| **Elements**           | A string is a sequence of characters.      | A list can contain elements of any data type (e.g., numbers, strings, other lists). |\n",
        "| **Indexing**           | Strings can be indexed to access individual characters. | Lists can be indexed to access individual elements. |\n",
        "| **Slicing**            | Strings can be sliced to obtain a substring. | Lists can be sliced to obtain a sublist. |\n",
        "| **Methods**            | Strings have methods for manipulating text (e.g., `.upper()`, `.lower()`, `.replace()`). | Lists have methods for adding, removing, and modifying elements (e.g., `.append()`, `.remove()`, `.pop()`). |\n",
        "| **Usage**              | Used for representing text.                | Used for representing ordered collections of heterogeneous data. |\n",
        "| **Example Operations** | `my_string[0]`, `my_string[1:5]`, `my_string.upper()` | `my_list[0]`, `my_list.append('orange')`, `my_list[1:3]` |\n",
        "\n",
        "### **Example: String vs List Operations**\n",
        "\n",
        "#### **String Operations**:\n",
        "```python\n",
        "my_string = \"Hello, World!\"\n",
        "\n",
        "# Accessing a character using indexing\n",
        "print(my_string[0])  # Output: H\n",
        "\n",
        "# Slicing the string\n",
        "print(my_string[0:5])  # Output: Hello\n",
        "\n",
        "# Converting the string to uppercase\n",
        "print(my_string.upper())  # Output: HELLO, WORLD!\n",
        "```\n",
        "\n",
        "#### **List Operations**:\n",
        "```python\n",
        "my_list = [1, 2, 3, 'apple', 'banana']\n",
        "\n",
        "# Accessing an element using indexing\n",
        "print(my_list[0])  # Output: 1\n",
        "\n",
        "# Modifying a list element\n",
        "my_list[2] = 10\n",
        "print(my_list)  # Output: [1, 2, 10, 'apple', 'banana']\n",
        "\n",
        "# Adding an element to the list\n",
        "my_list.append('orange')\n",
        "print(my_list)  # Output: [1, 2, 10, 'apple', 'banana', 'orange']\n",
        "\n",
        "# Slicing the list\n",
        "print(my_list[1:4])  # Output: [2, 10, 'apple']\n",
        "```\n",
        "\n",
        "### **Summary**\n",
        "\n",
        "- **Strings** are immutable sequences of characters, primarily used to represent text. They are fixed after creation and cannot be modified.\n",
        "- **Lists** are mutable sequences of elements, which can be of any type (including other lists or strings). You can change the contents of a list after creation.\n",
        "  \n",
        "If you're dealing with text or characters, **strings** are the best choice. If you need a collection of items that can be modified or contain mixed data types, then **lists** are more suitable."
      ],
      "metadata": {
        "id": "6-NNfg3ZbzAZ"
      }
    },
    {
      "cell_type": "markdown",
      "source": [
        "# 7. How do tuples ensure data integrity in Python?\n",
        "\n",
        "Ans: In Python, **tuples** are **immutable** sequences, which means once a tuple is created, its elements cannot be modified, added, or removed. This immutability plays a significant role in ensuring **data integrity**. Here's how tuples help in preserving data integrity:\n",
        "\n",
        "### **1. Prevention of Accidental Modifications**\n",
        "Since tuples are immutable, their data cannot be changed accidentally. This prevents bugs or errors that might arise from modifying the data, especially in cases where data should remain constant throughout the program. This makes tuples useful when you want to ensure that the data remains consistent and unaltered.\n",
        "\n",
        "#### Example:\n",
        "```python\n",
        "my_tuple = (1, 2, 3)\n",
        "# Attempting to modify an element will raise an error\n",
        "# my_tuple[0] = 4  # This will raise a TypeError\n",
        "```\n",
        "The attempt to modify an element of the tuple results in a `TypeError`, ensuring that the data remains intact.\n",
        "\n",
        "### **2. Use as Keys in Dictionaries**\n",
        "Since tuples are immutable, they are **hashable**, meaning they can be used as keys in dictionaries. This property ensures that the integrity of dictionary keys is preserved because the keys cannot be altered after they are added to the dictionary.\n",
        "\n",
        "#### Example:\n",
        "```python\n",
        "my_dict = {}\n",
        "tuple_key = (1, 2, 3)\n",
        "my_dict[tuple_key] = \"value\"\n",
        "# Once the key is added, it cannot be changed\n",
        "# tuple_key[0] = 4  # This will raise a TypeError\n",
        "```\n",
        "Because the tuple is immutable, its value remains unchanged, which ensures that the dictionary's key integrity is preserved.\n",
        "\n",
        "### **3. Ensuring Consistent Data in Function Returns**\n",
        "Tuples are often used when you want to return multiple values from a function while ensuring that the returned values do not change unexpectedly.\n",
        "\n",
        "#### Example:\n",
        "```python\n",
        "def get_coordinates():\n",
        "    return (10, 20)  # Returning a tuple with coordinates\n",
        "\n",
        "coords = get_coordinates()\n",
        "# coords[0] = 15  # This would raise a TypeError if you try to modify the tuple\n",
        "print(coords)  # Output: (10, 20)\n",
        "```\n",
        "In this example, using a tuple to return coordinates ensures that the values cannot be changed unintentionally after they are returned, maintaining the integrity of the data.\n",
        "\n",
        "### **4. Protection from Accidental Deletion**\n",
        "Since tuples cannot be modified, the elements inside a tuple cannot be deleted, reducing the chances of accidentally removing important data.\n",
        "\n",
        "#### Example:\n",
        "```python\n",
        "my_tuple = (10, 20, 30)\n",
        "# my_tuple.remove(20)  # This will raise an AttributeError because tuples do not have a remove method\n",
        "```\n",
        "Tuples do not support methods like `.remove()` or `.pop()`, which prevents accidental deletion of elements.\n",
        "\n",
        "### **5. Efficient Data Sharing Without Risk of Modification**\n",
        "Tuples are often used in scenarios where data needs to be passed between different parts of the program, such as when data is shared between different functions or modules. Since tuples cannot be modified, they guarantee that the data remains consistent across all uses.\n",
        "\n",
        "#### Example:\n",
        "```python\n",
        "def process_data(data):\n",
        "    # Process data (assuming it's a tuple)\n",
        "    print(data)\n",
        "\n",
        "shared_data = (100, 200, 300)\n",
        "process_data(shared_data)  # Data integrity is ensured, as the tuple cannot be changed inside the function\n",
        "```\n",
        "Here, the `shared_data` tuple is passed to the function, and its integrity is ensured because it cannot be modified within `process_data`.\n",
        "\n",
        "### **6. Performance Considerations**\n",
        "The immutability of tuples also allows for certain performance optimizations under the hood. Python can handle immutable data types like tuples more efficiently in terms of memory and access speed compared to mutable types like lists. This contributes to overall **data integrity** by reducing the likelihood of inadvertent changes to data that could impact performance.\n",
        "\n",
        "---\n",
        "\n",
        "### **Summary**\n",
        "Tuples ensure data integrity in Python through their **immutability**, which offers several benefits:\n",
        "- **Prevention of accidental modifications**, ensuring that data cannot be altered after creation.\n",
        "- **Hashability**, allowing tuples to be used as keys in dictionaries without the risk of changes that could break key-value mappings.\n",
        "- **Consistency in returned data**, ensuring that values returned by functions cannot be modified.\n",
        "- **Protection from accidental deletion** of elements, as methods like `.remove()` do not exist for tuples.\n",
        "- **Efficient data sharing**, ensuring that data passed between functions or modules remains unchanged.\n",
        "\n",
        "Overall, tuples provide a way to protect and maintain the integrity of data in your Python programs."
      ],
      "metadata": {
        "id": "dR9T811_cAJD"
      }
    },
    {
      "cell_type": "markdown",
      "source": [
        "# 8. What is a hash table, and how does it relate to dictionaries in Python\n",
        "\n",
        "Ans: A hash table is a data structure that implements an associative array, which is an abstract data type that allows storage and retrieval of data values based on their associated keys. Hash tables use a hash function to compute an index into an array of slots, from which the desired value can be fetched.\n",
        "\n",
        "In Python, dictionaries are implemented using hash tables. Each key-value pair in a dictionary is stored as an entry in the hash table, where the key is hashed to determine the index at which the corresponding value is stored. When you look up a key in a dictionary, the Python interpreter uses the hash function to compute the index and retrieve the associated value. This makes dictionaries highly efficient for looking up, inserting, and deleting values based on their keys, with average time complexity of O(1) for these operations.\n"
      ],
      "metadata": {
        "id": "MSZ_zw61cLc1"
      }
    },
    {
      "cell_type": "markdown",
      "source": [
        "# 9.  Can lists contain different data types in Python\n",
        "\n",
        "Ans: Yes, lists in Python can contain different data types. In Python, a list is a mutable and ordered collection of items, and these items can be of any data type. You can have a list containing integers, strings, floats, and other complex data types such as dictionaries, tuples, or even other lists, all in the same list. This flexibility is one of the reasons why lists are widely used and very powerful in Python. Here’s an example of a list containing different data types:\n",
        "\n",
        "my_list = [1, \"Hello\", 3.14, [2, 4, 6], {'a': 1, 'b': 2}, (5, 6)]\n",
        "\n",
        "In this example, my_list contains an integer, a string, a float, another list, a dictionary, and a tuple, all in a single list."
      ],
      "metadata": {
        "id": "THiKu3CWcjMu"
      }
    },
    {
      "cell_type": "markdown",
      "source": [
        "# 10.  Explain why strings are immutable in Python?\n",
        "\n",
        "Strings in Python are immutable, meaning that once a string is created, its content cannot be changed or modified. Here are a few reasons why strings are designed to be immutable in Python:\n",
        "\n",
        "    Memory Efficiency: Immutable strings allow Python to perform optimizations by reusing string objects. If multiple variables refer to the same string value, they can all point to the same memory location since the string cannot be altered. This can save memory when the same string is used multiple times in a program.\n",
        "\n",
        "    Hashing: In Python, strings are commonly used as keys in dictionaries. For an object to be used as a dictionary key, it must be hashable and its hash value must remain constant throughout its lifetime. If strings were mutable, their hash value could change if their content changed, which could lead to errors in addressing within hash-based data structures like dictionaries.\n",
        "\n",
        "    Thread safety: Immutable objects are inherently thread-safe because they cannot be changed after creation. This eliminates the need for synchronization mechanisms to ensure that the object state is not corrupted when accessed by multiple threads, leading to simpler and safer multithreading programming.\n",
        "\n",
        "    Logical Consistency: Immutable strings can help prevent bugs that arise from unintended side effects. When you modify a string that is shared between different parts of a program, changing it in one place can lead to unexpected results in other places of the code. Immutability prohibits these modifications, making it easier to reason about the state of the program and enhancing code predictability and reliability.\n",
        "\n",
        "Due to these benefits, Python designers chose to make strings immutable, helping to ensure performance optimizations and increasing the robustness and security of Python programs.\n"
      ],
      "metadata": {
        "id": "bwGIyv4Ecv8p"
      }
    },
    {
      "cell_type": "markdown",
      "source": [
        "# 11. E What advantages do dictionaries offer over lists for certain tasks\n",
        "\n",
        "Ans: Dictionaries offer several advantages over lists for certain tasks, particularly when you need to associate data with unique keys and access that data efficiently. Below are the main advantages of using dictionaries instead of lists in Python for specific tasks:\n",
        "\n",
        "### 1. **Fast Lookups by Key**\n",
        "   - **Dictionaries** provide **O(1) average-time complexity** for lookups, meaning that retrieving a value by its key is very fast, regardless of the size of the dictionary.\n",
        "   - In contrast, **lists** require **O(n)** time for lookups by index (or by value if you’re searching for an item), meaning that as the list grows larger, the time to search for an element increases linearly.\n",
        "\n",
        "   **Example:**\n",
        "   ```python\n",
        "   my_dict = {'name': 'Alice', 'age': 30}\n",
        "   print(my_dict['name'])  # Output: Alice\n",
        "\n",
        "   my_list = ['Alice', 'Bob', 'Charlie']\n",
        "   # Finding the index of a specific element requires searching the entire list\n",
        "   print(my_list.index('Alice'))  # Output: 0 (but slower than dictionary lookup)\n",
        "   ```\n",
        "\n",
        "### 2. **Key-Value Mapping**\n",
        "   - **Dictionaries** are designed for storing **key-value pairs**. They allow you to associate a unique key with a value, making it ideal when you need to map one piece of data to another (like mapping a person's name to their phone number or storing settings options where each option has a unique identifier).\n",
        "   - **Lists**, on the other hand, are simply ordered collections of elements, so they are not well-suited for key-value associations unless you pair them with indices or other data structures.\n",
        "\n",
        "   **Example:**\n",
        "   ```python\n",
        "   # Using a dictionary to store person data\n",
        "   person = {'name': 'Alice', 'age': 30, 'city': 'New York'}\n",
        "   \n",
        "   # You can easily access values by the key\n",
        "   print(person['age'])  # Output: 30\n",
        "   \n",
        "   # With a list, you'd have to use indices, which may be less intuitive\n",
        "   person_list = ['Alice', 30, 'New York']\n",
        "   print(person_list[1])  # Output: 30 (but it’s not as clear what '30' represents)\n",
        "   ```\n",
        "\n",
        "### 3. **Uniqueness of Keys**\n",
        "   - **Dictionaries** enforce the uniqueness of keys. If you try to insert a duplicate key, it will overwrite the existing key-value pair with the new value. This ensures that each key maps to a single, unique value.\n",
        "   - **Lists** allow duplicate values, meaning that if you insert multiple occurrences of the same item, the list will contain them all.\n",
        "\n",
        "   **Example:**\n",
        "   ```python\n",
        "   my_dict = {'a': 1, 'b': 2, 'c': 3}\n",
        "   my_dict['a'] = 10  # Overwrites the value for 'a'\n",
        "   print(my_dict)  # Output: {'a': 10, 'b': 2, 'c': 3}\n",
        "   \n",
        "   my_list = [1, 1, 2, 3]\n",
        "   print(my_list)  # Output: [1, 1, 2, 3] (allows duplicates)\n",
        "   ```\n",
        "\n",
        "### 4. **Efficient Insertions and Deletions**\n",
        "   - **Dictionaries** allow you to insert, update, and delete key-value pairs with **O(1) average-time complexity**. This makes it much more efficient when you need to modify the data by adding or removing items based on a key.\n",
        "   - **Lists**, on the other hand, have slower operations for inserting or deleting elements, especially if you're inserting or deleting at the beginning or in the middle of the list. This results in an average time complexity of **O(n)** for such operations.\n",
        "\n",
        "   **Example (insertion and deletion):**\n",
        "   ```python\n",
        "   # Inserting and deleting in a dictionary\n",
        "   my_dict = {'a': 1, 'b': 2}\n",
        "   my_dict['c'] = 3  # O(1) insertion\n",
        "   del my_dict['b']  # O(1) deletion\n",
        "   print(my_dict)  # Output: {'a': 1, 'c': 3}\n",
        "   \n",
        "   # Inserting and deleting in a list\n",
        "   my_list = [1, 2, 3]\n",
        "   my_list.insert(1, 10)  # O(n) insertion (shift elements)\n",
        "   my_list.remove(2)  # O(n) removal (search for element)\n",
        "   print(my_list)  # Output: [1, 10, 3]\n",
        "   ```\n",
        "\n",
        "### 5. **Avoiding Duplicate Data**\n",
        "   - **Dictionaries** automatically prevent duplicate keys. If you attempt to add a new key that already exists in the dictionary, it will simply overwrite the old key-value pair rather than adding a new duplicate key.\n",
        "   - With **lists**, you can have duplicate elements, which may lead to unnecessary or unwanted repetition of data.\n",
        "\n",
        "   **Example:**\n",
        "   ```python\n",
        "   my_dict = {'a': 1, 'b': 2}\n",
        "   my_dict['a'] = 3  # Overwrites the value associated with 'a'\n",
        "   print(my_dict)  # Output: {'a': 3, 'b': 2}\n",
        "   \n",
        "   my_list = [1, 2, 1]\n",
        "   print(my_list)  # Output: [1, 2, 1] (allows duplicates)\n",
        "   ```\n",
        "\n",
        "### 6. **Faster Membership Testing**\n",
        "   - **Dictionaries** allow for **O(1) average-time complexity** for checking if a key exists using the `in` keyword.\n",
        "   - **Lists** require **O(n)** time for membership testing, as Python needs to check each element in the list to determine if it's present.\n",
        "\n",
        "   **Example:**\n",
        "   ```python\n",
        "   # Checking membership in a dictionary\n",
        "   my_dict = {'name': 'Alice', 'age': 30}\n",
        "   print('name' in my_dict)  # Output: True  (O(1) time complexity)\n",
        "   \n",
        "   # Checking membership in a list\n",
        "   my_list = ['Alice', 'Bob', 'Charlie']\n",
        "   print('Alice' in my_list)  # Output: True  (O(n) time complexity)\n",
        "   ```\n",
        "\n",
        "### 7. **Storing Complex Data**\n",
        "   - **Dictionaries** can store more complex data structures, such as lists, tuples, or even other dictionaries, as values. This allows for hierarchical or nested data storage, where each key can map to more complex information.\n",
        "   - **Lists** are also versatile, but using them for nested or complex data typically requires additional management of indices.\n",
        "\n",
        "   **Example:**\n",
        "   ```python\n",
        "   # Storing complex data in a dictionary\n",
        "   people = {\n",
        "       'Alice': {'age': 30, 'city': 'New York'},\n",
        "       'Bob': {'age': 25, 'city': 'San Francisco'}\n",
        "   }\n",
        "   print(people['Alice']['age'])  # Output: 30\n",
        "   \n",
        "   # Storing complex data in a list\n",
        "   people_list = [['Alice', 30, 'New York'], ['Bob', 25, 'San Francisco']]\n",
        "   print(people_list[0][1])  # Output: 30\n",
        "   ```\n",
        "\n",
        "### **When to Use a Dictionary vs. a List**\n",
        "- **Use a dictionary** when:\n",
        "  - You need fast lookups by a unique identifier (key).\n",
        "  - You need to store data that can be accessed by a unique key (e.g., user profiles, settings).\n",
        "  - You need to ensure that each key is unique.\n",
        "  - You need to efficiently add, modify, or delete key-value pairs.\n",
        "\n",
        "- **Use a list** when:\n",
        "  - You need an ordered collection of items.\n",
        "  - You need to preserve duplicates.\n",
        "  - You need to access elements by their position (index).\n",
        "  - You need to perform operations like sorting or iterating through elements in order.\n",
        "\n",
        "### **Summary**\n",
        "Dictionaries are ideal when you need efficient lookups, key-value mapping, and operations that rely on unique identifiers. Lists, on the other hand, are better suited for ordered collections, especially when you care about the order of elements and need to support duplicates or indexed access. By choosing the appropriate data structure, you can significantly improve the performance and readability of your code for specific tasks."
      ],
      "metadata": {
        "id": "PGI1-7IPc8ls"
      }
    },
    {
      "cell_type": "markdown",
      "source": [
        "# 12. Describe a scenario where using a tuple would be preferable over a list?\n",
        "\n",
        "One scenario where using a tuple would be preferable over a list is when you need to store a collection of constants that should not be modified. For example, assume you are developing a program that deals with the properties of geometric shapes and you need to store the coordinates of the vertices of a square. Since the coordinates of the vertices are fixed and should not change, it would be preferable to use a tuple to store these values.\n",
        "\n",
        "Here's what the code might look like:\n",
        "\n",
        "square_vertices = ((0, 0), (0, 1), (1, 1), (1, 0))\n",
        "\n",
        "# Using the vertices for some calculations\n",
        "for vertex in square_vertices:\n",
        "    print(f\"Processing vertex at coordinates {vertex}\")\n",
        "\n",
        "# Since tuple is immutable, attempting to modify it will raise an error\n",
        "# square_vertices[0] = (2, 2)  # This would raise a TypeError\n",
        "\n",
        "Using a tuple ensures that the coordinates remain constant and that no accidental modifications occur during the execution of the program, providing an additional layer of safety and clarity about the intention of the data being unmodifiable."
      ],
      "metadata": {
        "id": "KKcrdCmSdYhX"
      }
    },
    {
      "cell_type": "markdown",
      "source": [
        "# 13.  How do sets handle duplicate values in Python\n",
        "Ans: In Python, sets automatically handle duplicate values by ensuring that each element in a set is unique. When you add multiple elements to a set, if any duplicates are included, they will not be added to the set again. This characteristic of sets is due to the fact that sets are implemented using hash tables, similar to dictionaries, but without key-value pairs—only keys.\n",
        "\n",
        "Here is a simple example illustrating how sets handle duplicate values:\n",
        "\n",
        "# Creating a list with duplicate values\n",
        "numbers_list = [1, 2, 2, 3, 4, 4, 4, 5]\n",
        "\n",
        "# Converting the list to a set removes the duplicates\n",
        "numbers_set = set(numbers_list)\n",
        "\n",
        "# Display the set\n",
        "print(numbers_set)  # Output: {1, 2, 3, 4, 5}\n",
        "\n",
        "In the example above, the list numbers_list contains duplicates of the numbers 2 and 4. When this list is converted into a set, the duplicates are removed, and the resulting set contains each number only once.\n",
        "\n",
        "The main takeaway is that sets in Python are unordered collections of unique elements, and they automatically prevent the addition of duplicate items. This makes sets a useful data structure when you need to ensure that all elements are distinct and efficiently handle membership testing without concerning element order."
      ],
      "metadata": {
        "id": "pHeDKs8-dnlg"
      }
    },
    {
      "cell_type": "markdown",
      "source": [
        "# 14. E How does the “in” keyword work differently for lists and dictionaries\n",
        "\n",
        "Ans: The in keyword is used in Python to check membership, and it works slightly differently for lists and dictionaries due to their underlying data structures and the elements they contain.\n",
        "Lists\n",
        "\n",
        "In the case of lists, the in keyword checks for the presence of an item by iterating through each element in the list until it either finds a match or reaches the end of the list. This operation is performed in O(n) time complexity, where n is the number of elements in the list, because in the worst case, it might have to check each element.\n",
        "\n",
        "Here’s an example with lists:\n",
        "\n",
        "my_list = [1, 2, 3, 4, 5]\n",
        "print(3 in my_list)  # Output: True\n",
        "print(6 in my_list)  # Output: False\n",
        "\n",
        "Dictionaries\n",
        "\n",
        "In dictionaries, the in keyword checks for the presence of a key and not the value. This operation is much faster compared to lists, typically running in average O(1) time complexity, because dictionaries are implemented as hash tables. The keys are hashed to a specific position, and the presence of the key can be checked very quickly without needing to iterate through all elements.\n",
        "\n",
        "Here’s an example with dictionaries:\n",
        "\n",
        "my_dict = {'a': 1, 'b': 2, 'c': 3}\n",
        "print('b' in my_dict)  # Output: True\n",
        "print('z' in my_dict)  # Output: False\n",
        "print(1 in my_dict)    # Output: False, because 1 is a value, not a key\n",
        "\n",
        "Summary\n",
        "\n",
        "    For lists, in checks if a value exists in the list and does so by a linear search, making it less efficient for larger lists.\n",
        "    For dictionaries, in checks for the presence of a key using a hash function, which is very efficient even for large dictionaries.\n",
        "\n",
        "Understanding these differences is crucial for optimizing performance, especially when working with large collections of data where lookup times can significantly impact the performance of your program."
      ],
      "metadata": {
        "id": "Wy4USQRgdx2P"
      }
    },
    {
      "cell_type": "markdown",
      "source": [
        "# 15.  Can you modify the elements of a tuple? Explain why or why not?\n",
        "Ans: No, you cannot modify the elements of a tuple in Python. This is because tuples are immutable data structures. Once a tuple is created, its contents cannot be altered. This immutability includes changing, adding, or removing elements after the tuple has been defined.\n",
        "Why are Tuples Immutable?\n",
        "\n",
        "    Hashability: Since tuples are immutable, they can be used as keys in dictionaries or as elements of sets, both of which require their elements to be hashable and thus immutable.\n",
        "    Performance: Immutable data structures are generally simpler and can be more easily optimized. Some operations can be faster on tuples because they are of a fixed size.\n",
        "    Safety: Using immutable data structures can lead to safer and more bug-free code. When you know that the data cannot change, you can make assumptions and optimizations based on that fact. It also means that you can pass tuples around without worrying about unexpected modifications.\n",
        "\n",
        "Example\n",
        "\n",
        "Here’s an example that shows trying to modify a tuple leads to an error:\n",
        "\n",
        "my_tuple = (1, 2, 3)\n",
        "# Attempting to change the first element\n",
        "try:\n",
        "    my_tuple[0] = 10\n",
        "except TypeError as e:\n",
        "    print(e)  # Output: 'tuple' object does not support item assignment\n",
        "\n",
        "Workarounds\n",
        "\n",
        "If you need a similar data structure that allows modifications, you might consider using a list instead, which is mutable, or if you need to modify a tuple, you can convert it into a list, modify the list, and then convert it back to a tuple:\n",
        "\n",
        "my_tuple = (1, 2, 3)\n",
        "my_list = list(my_tuple)\n",
        "my_list[0] = 10\n",
        "my_tuple = tuple(my_list)\n",
        "print(my_tuple)  # Output: (10, 2, 3)\n",
        "\n",
        "This approach, however, involves additional overhead from converting between types and should be used judiciously, especially if performance is a concern. The choice between using tuples and lists often comes down to whether the need for immutability (for safety and performance reasons) outweighs the need for a data structure that can be modified.\n",
        "\n"
      ],
      "metadata": {
        "id": "4lSYzyy9d99b"
      }
    },
    {
      "cell_type": "markdown",
      "source": [
        "# 16.  What is a nested dictionary, and give an example of its use case?\n",
        "\n",
        "Ans: A nested dictionary in Python is a dictionary where the value associated with a key is another dictionary. This structure allows for storing and organizing complex, hierarchical data within a single, coherent dictionary object. It's an effective way to handle multidimensional data with relational aspects.\n",
        "Example Use Case\n",
        "\n",
        "Imagine you are managing data for a school system. You need to store information about different schools, where each school contains data on various teachers, and each teacher has specific attributes like their department and years of experience. A nested dictionary would be an efficient way to manage this complex structure.\n",
        "\n",
        "Here’s how you could structure this with a nested dictionary:\n",
        "\n",
        "school_data = {\n",
        "    \"Lincoln High School\": {\n",
        "        \"Jane Doe\": {\n",
        "            \"department\": \"Mathematics\",\n",
        "            \"years_of_experience\": 5\n",
        "        },\n",
        "        \"John Smith\": {\n",
        "            \"department\": \"Biology\",\n",
        "            \"years_of_experience\": 12\n",
        "        }\n",
        "    },\n",
        "    \"Roosevelt High School\": {\n",
        "        \"Alice Johnson\": {\n",
        "            \"department\": \"English\",\n",
        "            \"years_of_experience\": 9\n",
        "        },\n",
        "        \"Tom Hanks\": {\n",
        "            \"department\": \"History\",\n",
        "            \"years_of_experience\": 16\n",
        "        }\n",
        "    }\n",
        "}\n",
        "\n",
        "# Accessing data\n",
        "print(school_data[\"Lincoln High School\"][\"John Smith\"])\n",
        "# Output: {'department': 'Biology', 'years_of_experience': 12}\n",
        "\n",
        "# Adding a new teacher\n",
        "school_data[\"Lincoln High School\"][\"Clara Oswald\"] = {\n",
        "    \"department\": \"Physics\",\n",
        "    \"years_of_experience\": 3\n",
        "}\n",
        "\n",
        "# Updating an attribute\n",
        "school_data[\"Roosevelt High School\"][\"Alice Johnson\"][\"years_of_experience\"] = 10\n",
        "\n",
        "Benefits of Nested Dictionaries\n",
        "\n",
        "    Organization: Keeps related information structured and easily accessible through meaningful keys.\n",
        "    Scalability: Easy to add more levels of depth with minimal impact on existing code. For example, adding more attributes to a teacher or more categories within each school requires no structural changes.\n",
        "    Versatility: Suitable for a wide range of applications such as configurations/settings, JSON data storage, and handling complex relational data efficiently.\n",
        "\n",
        "Nested dictionaries are extensively used in real-world applications, especially in areas involving JSON data parsing, configurations, and anywhere hierarchical data relationships are present. Their key-value structure makes lookups fast and intuitive, centralizing complex data into a single manageable entity."
      ],
      "metadata": {
        "id": "kiU_ZjTveLRA"
      }
    },
    {
      "cell_type": "markdown",
      "source": [
        "# 17. E Describe the time complexity of accessing elements in a dictionary?\n",
        "\n",
        "Accessing elements in a Python dictionary is highly efficient. The time complexity of accessing an element by its key in a dictionary is, on average, O(1), which is known as constant time complexity. This efficiency comes from the underlying implementation of dictionaries, which use a data structure known as a hash table.\n",
        "How Does Dictionary Access Work?\n",
        "\n",
        "When a key-value pair is added to a dictionary, the key undergoes a process called hashing. The hash function takes the key and computes an index, which determines where the key-value pair is stored in an array that underpins the hash table. When you access a value by its key, the dictionary uses the same hash function to compute the index and directly access the corresponding value in the array.\n",
        "Constant Time Complexity, O(1)\n",
        "\n",
        "Because this index calculation and array access occur in constant time (i.e., the time it takes does not depend on the number of elements in the dictionary), dictionary lookups are very fast and do not degrade significantly as the size of the dictionary grows. This makes dictionaries ideal for scenarios where a large number of lookups, insertions, and deletions will occur.\n",
        "Potential Exceptions\n",
        "\n",
        "    Hash Collisions: Ideally, every unique key maps to a unique index, but sometimes, two different keys may produce the same index—a scenario known as a hash collision. In such cases, the dictionary must handle this collision (usually through methods like chaining or open addressing). Collision handling could potentially degrade performance slightly, though Python's dictionaries are designed to manage this efficiently most of the time.\n",
        "\n",
        "    Rehashing: If the dictionary grows beyond a certain threshold, it may need to rehash its keys to resize the underlying array. This rehashing process can temporarily cause the operation to take more than constant time. However, rehashing is relatively rare and amortized over many operations, so the average complexity remains constant.\n",
        "\n",
        "Summary\n",
        "\n",
        "In summary, accessing elements by key in a Python dictionary typically occurs in constant time, O(1). This is under the assumption of good hash functions and distribution. It is one of the reasons dictionaries are used so commonly in Python where quick access to data based on unique identifiers (keys) is necessary. However, programmers should be aware of the conditions such as hash collisions and rehashing that might affect performance in specific scenarios.\n"
      ],
      "metadata": {
        "id": "HGgqO6Foefeq"
      }
    },
    {
      "cell_type": "markdown",
      "source": [
        "# 18.In what situations are lists preferred over dictionaries?\n",
        "Ans: Lists and dictionaries serve different purposes in Python, and choosing between them often depends on the specific use case and data characteristics. Here are some situations where lists are preferred over dictionaries:\n",
        "\n",
        "    Ordered Data: Lists maintain the order of elements, unlike dictionaries (prior to Python 3.7, dictionaries did not maintain insertion order). When you need to preserve the sequence of items, like when processing items in the specific order they were added, a list is the right choice.\n",
        "\n",
        "    Access by Index: If you need to frequently access elements by their position, lists provide efficient O(1) time complexity for accessing elements by index. This is ideal for scenarios where you're dealing with inherently ordered data, like time series, or sequences of any kind.\n",
        "\n",
        "    Simple, Iterative Processing: When the task involves simple linear processing of items, such as iterating over elements from start to finish without the need for lookups or keyed access, lists provide a straightforward solution. Examples include simple queues, stacks, or data that is processed in batches in the order it's received.\n",
        "\n",
        "    Homogeneous Data: Lists are typically used to store collections of similar items. They are ideal for cases where you have a set of identical data types—like all integers or all strings—which you need to process in a uniform manner, such as numerical calculations over a series of values.\n",
        "\n",
        "    Memory Considerations: Generally, lists are slightly more memory-efficient than dictionaries since dictionaries store additional overhead for each item to maintain keys along with values. If memory utilization is a critical factor and keyed access isn't required, lists might be a preferable option.\n",
        "\n",
        "    Functional Operations: In scenarios where you intend to apply functions to elements sequentially, such as using map or filter functions, lists can be more convenient and direct to work with compared to dictionaries. This is especially true in data processing pipelines that involve transformations and aggregations of data values.\n",
        "\n",
        "Example:\n",
        "\n",
        "Imagine processing sensor data readings taken at regular intervals:\n",
        "\n",
        "readings = [23, 21, 25, 26, 24]  # List of temperature readings.\n",
        "average_reading = sum(readings) / len(readings)\n",
        "print(average_reading)\n",
        "\n",
        "This situation is ideal for a list because the data is homogeneous, ordered, and accessed sequentially.\n",
        "Summary\n",
        "\n",
        "Lists are preferred over dictionaries when the focus is on ordered and indexed access, when handling homogeneous data types, or when the operations on the data are inherently sequential or depend on the order of the data. Lists can also be slightly more lightweight in terms of memory, making them suitable for data-intensive operations where keyed access is not required."
      ],
      "metadata": {
        "id": "iqoU7l6gerTL"
      }
    },
    {
      "cell_type": "markdown",
      "source": [
        "#19.  Why are dictionaries considered unordered, and how does that affect data retrieval?\n",
        "\n",
        "Ans: As of Python 3.7 and later, dictionaries are ordered in the sense that they maintain the insertion order of items. However, traditionally, and especially in versions of Python before 3.7, dictionaries were considered unordered. This characteristic is fundamental to understanding how data is handled in typical hash table implementations, which is the underlying structure of Python dictionaries.\n",
        "Traditional View (Before Python 3.7)\n",
        "\n",
        "    Unordered Nature: Traditionally, dictionaries were considered unordered, which means there was no particular order in which the keys or values were stored that reflected their insertion sequence or any inherent ordering. This unordered nature arises because dictionaries use a hash table as their underlying data structure. When an item is added to a dictionary, the key is hashed, and the resulting hash value determines where the key-value pair is stored. Because the hash function can scatter objects far apart from each other and in non-sequential slots, the physical storage order of items does not reflect any specific predictable order.\n",
        "\n",
        "    Data Retrieval: The unordered nature of dictionaries in these earlier versions means that you should not expect any particular order when iterating over the keys, values, or items in a dictionary. For example, adding items to a dictionary and then iterating over it might not yield the items in the order they were added. This unpredictability doesn't affect the efficiency of data retrieval by key, which is very fast (average O(1) complexity), but it does affect operations that might assume some order, such as looping over elements or keys and expecting them to be in the order of insertion or some sorted order.\n",
        "\n",
        "Modern Python (3.7 and later)\n",
        "\n",
        "Starting with Python 3.7, dictionaries maintain the order of items as they are inserted. This was a feature originally in the Python language implementation CPython 3.6 as a side effect of an optimization, but it was made a language feature in 3.7. This change means that when items are added to a dictionary, their insertion order is remembered and will be reflected during iterations or view operations, such as when converting to a list.\n",
        "Effects and Implications\n",
        "\n",
        "    Data Structure Choices: Before Python 3.7, if you needed an ordered associative array, you might use OrderedDict from the collections module. With Python 3.7 and later, a regular dict will maintain insertion order, simplifying the choice of data structures in many cases.\n",
        "    Predictability: For modern Python versions, you can predict and rely on the order of items in a dictionary as they were inserted, which simplifies some algorithms and data handling scenarios.\n",
        "    Performance: Regardless of the version, accessing elements by their key is always efficient in a dictionary. The difference in order management doesn't affect this fundamental attribute of dictionaries.\n",
        "\n",
        "Summary\n",
        "\n",
        "The understanding of whether dictionaries are ordered or unordered depends on the version of Python being used. The unordered nature in versions prior to 3.7 affects how one might handle and predict data retrieval when the order of elements matters. In modern Python versions, dictionaries do maintain insertion order, offering both high-performance key access and predictable item order during iterations.\n"
      ],
      "metadata": {
        "id": "ioS3oq6He5HS"
      }
    },
    {
      "cell_type": "markdown",
      "source": [
        "# 20. Explain the difference between a list and a dictionary in terms of data retrieval.\n",
        "\n",
        "The main difference between lists and dictionaries in Python revolves around how they store data and consequently how data is retrieved. Each of these structures suits different use cases based on their data retrieval mechanisms.\n",
        "Lists:\n",
        "\n",
        "    Indexed Data Retrieval: Lists are ordered collections of items and each item has a positional index (starting from zero). Data retrieval is typically done via these numeric indices.\n",
        "    Efficiency: Accessing an element by its index in a list is very efficient, operating in constant time (O(1)). However, if you need to find an element without knowing its index (i.e., searching for a specific value), you must iterate through the list until you find the item, which can take linear time (O(n)) in the worst case.\n",
        "    Use Case: Lists are ideal when there is a need to maintain an order and access elements sequentially or by their index. They are also suitable for cases where data volume might not be large enough to offset the overhead of more complex data structures like dictionaries.\n",
        "\n",
        "Example of list access:\n",
        "\n",
        "my_list = ['apple', 'banana', 'cherry']\n",
        "print(my_list[1])  # Output: banana\n",
        "# Retrieving 'cherry' without knowing its index:\n",
        "for fruit in my_list:\n",
        "    if fruit == 'cherry':\n",
        "        print(fruit)  # Output: cherry\n",
        "\n",
        "Dictionaries:\n",
        "\n",
        "    Keyed Data Retrieval: Dictionaries in Python are unordered (order-preserving from Python 3.7+) key-value pairs. Accessing data in a dictionary is done via keys, which uniquely identify associated values. This does not correspond to the position but rather to the 'label' one assigns to data.\n",
        "    Efficiency: Retrieval of data by keys in a dictionary is very fast and occurs in constant time (O(1)) on average because of the underlying hash table implementation. However, this efficiency assumes hash functions distribute keys uniformly and there are no significant hash collisions.\n",
        "    Use Case: Dictionaries are preferred when you need fast lookups, insertions, and deletions based on unique identifiers for elements. They are particularly useful when the dataset is large and speed of access is a priority, or when the relationship or mapping between unique identifiers (keys) and data (values) needs to be expressed clearly.\n",
        "\n",
        "Example of dictionary access:\n",
        "\n",
        "my_dict = {'a': 'apple', 'b': 'banana', 'c': 'cherry'}\n",
        "print(my_dict['b'])  # Output: banana\n",
        "# Direct access using the key, very efficient:\n",
        "print(my_dict['c'])  # Output: cherry\n",
        "\n",
        "Summary:\n",
        "\n",
        "    Lists are preferable for ordered collections accessible by numerical indices, especially where iteration over elements or maintaining order is important.\n",
        "    Dictionaries are ideal for scenarios requiring rapid lookups, updates, and deletions using unique keys. They offer significant performance advantages for large datasets or when the dataset consists of pairs of keys and values.\n",
        "\n",
        "Choosing between a list and a dictionary often depends on the specific requirements for data organization and retrieval efficiency in your application."
      ],
      "metadata": {
        "id": "0QvTx-wOfHsE"
      }
    },
    {
      "cell_type": "markdown",
      "source": [
        "# Practical Questions"
      ],
      "metadata": {
        "id": "mHjIp1p2flRH"
      }
    },
    {
      "cell_type": "code",
      "source": [
        "# 1. Write a code to create a string with your name and print it?\n",
        "\n",
        "# Creating a string with my name\n",
        "my_name = \"ChatGPT\"\n",
        "\n",
        "# Printing the string\n",
        "print(my_name)\n"
      ],
      "metadata": {
        "colab": {
          "base_uri": "https://localhost:8080/"
        },
        "id": "2ZJsVlGohqUz",
        "outputId": "3db18d89-6048-4f37-9efc-87f1d7d66582"
      },
      "execution_count": 1,
      "outputs": [
        {
          "output_type": "stream",
          "name": "stdout",
          "text": [
            "ChatGPT\n"
          ]
        }
      ]
    },
    {
      "cell_type": "code",
      "source": [
        "# 2.  Write a code to find the length of the string \"Hello World\"\n",
        "\n",
        "# defining the string\n",
        "\n",
        "my_string = \"Hello World\"\n",
        "\n",
        "# finding the length of the string\n",
        "\n",
        "length_of_string = len(my_string)\n",
        "print (length_of_string)\n",
        "\n"
      ],
      "metadata": {
        "colab": {
          "base_uri": "https://localhost:8080/"
        },
        "id": "XtLgwzrph6op",
        "outputId": "a669ac20-c63e-41b8-9c0d-5c4f4b72d927"
      },
      "execution_count": 5,
      "outputs": [
        {
          "output_type": "stream",
          "name": "stdout",
          "text": [
            "11\n"
          ]
        }
      ]
    },
    {
      "cell_type": "code",
      "source": [
        "# 3. Write a code to slice the first 3 characters from the string \"Python Programming\"\n",
        "\n",
        "# Defining the string\n",
        "my_string = \"python\"\n",
        "\n",
        "#slicing of the sring\n",
        "slicing_my_string = my_string [:3]\n",
        "print (slicing_my_string)"
      ],
      "metadata": {
        "colab": {
          "base_uri": "https://localhost:8080/"
        },
        "id": "aBMSQurijNY7",
        "outputId": "e58eb6a2-5eb6-4c13-8a17-19a39c1b3c1d"
      },
      "execution_count": 6,
      "outputs": [
        {
          "output_type": "stream",
          "name": "stdout",
          "text": [
            "pyt\n"
          ]
        }
      ]
    },
    {
      "cell_type": "code",
      "source": [
        "# 4.  Write a code to convert the string \"hello\" to uppercase?\n",
        "\n",
        "# Defining the string\n",
        "\n",
        "my_string = \"hello\"\n",
        "\n",
        "#Converting my string to uppercase\n",
        "\n",
        "my_uppercase = my_string.upper()\n",
        "print (my_uppercase)"
      ],
      "metadata": {
        "colab": {
          "base_uri": "https://localhost:8080/"
        },
        "id": "a29w4HWfkjuk",
        "outputId": "e3311385-252b-4177-df82-5c4c7c4d03ae"
      },
      "execution_count": 7,
      "outputs": [
        {
          "output_type": "stream",
          "name": "stdout",
          "text": [
            "HELLO\n"
          ]
        }
      ]
    },
    {
      "cell_type": "code",
      "source": [
        "# 5. Write a code to replace the word \"apple\" with \"orange\" in the string \"I like apple\"\n",
        "\n",
        "# Defining the string\n",
        "\n",
        "my_string = \"I like apple\"\n",
        "\n",
        "#replacing the workd apple with organe\n",
        "\n",
        "my_replace = my_string.replace(\"apple\", \"orange\")\n",
        "print (my_replace)"
      ],
      "metadata": {
        "colab": {
          "base_uri": "https://localhost:8080/"
        },
        "id": "dqnqusGTkrVw",
        "outputId": "5ac14440-b50f-439b-b16c-6960913cd65c"
      },
      "execution_count": 8,
      "outputs": [
        {
          "output_type": "stream",
          "name": "stdout",
          "text": [
            "I like orange\n"
          ]
        }
      ]
    },
    {
      "cell_type": "code",
      "source": [
        "# 6. Write a code to create a list with numbers 1 to 5 and print it?\n",
        "\n",
        "# creating a list with number 1 to 5\n",
        "\n",
        "my_list = [1, 2, 3, 4, 5]\n",
        "\n",
        "#printing my list\n",
        "\n",
        "print (my_list)\n",
        "\n"
      ],
      "metadata": {
        "colab": {
          "base_uri": "https://localhost:8080/"
        },
        "id": "fdJJzCK4lSiU",
        "outputId": "b97511da-6210-4907-b7ca-642064bee066"
      },
      "execution_count": 13,
      "outputs": [
        {
          "output_type": "stream",
          "name": "stdout",
          "text": [
            "[1, 2, 3, 4, 5]\n"
          ]
        }
      ]
    },
    {
      "cell_type": "code",
      "source": [
        "#7. Write a code to append the number 10 to the list [1, 2, 3, 4]?\n",
        "\n",
        "#creating a list\n",
        "my_list = [1, 2, 3, 4]\n",
        "\n",
        "#appending the number 10 to the list\n",
        "my_list.append(10)\n",
        "print (my_list)\n"
      ],
      "metadata": {
        "colab": {
          "base_uri": "https://localhost:8080/"
        },
        "id": "EMUFLaLmmepa",
        "outputId": "eef59750-367b-452c-b257-da88e1982b85"
      },
      "execution_count": 14,
      "outputs": [
        {
          "output_type": "stream",
          "name": "stdout",
          "text": [
            "[1, 2, 3, 4, 10]\n"
          ]
        }
      ]
    },
    {
      "cell_type": "code",
      "source": [
        "# 8. Write a code to remove the number 3 from the list [1, 2, 3, 4, 5]?\n",
        "\n",
        "#creating a list\n",
        "my_list = [1, 2, 3, 4, 5]\n",
        "\n",
        "#removing the number 3\n",
        "my_list.remove (3)\n",
        "print (my_list)"
      ],
      "metadata": {
        "colab": {
          "base_uri": "https://localhost:8080/"
        },
        "id": "gsjukmjWm58S",
        "outputId": "7a44df04-9100-4b43-dcad-410be87b80a6"
      },
      "execution_count": 15,
      "outputs": [
        {
          "output_type": "stream",
          "name": "stdout",
          "text": [
            "[1, 2, 4, 5]\n"
          ]
        }
      ]
    },
    {
      "cell_type": "code",
      "source": [
        "# 9. Write a code to access the second element in the list ['a', 'b', 'c', 'd']\n",
        "\n",
        "# creating a list\n",
        "my_list = ['a', 'b', 'c', 'd']\n",
        "\n",
        "# accessing the second element (index 1)\n",
        "second_element = my_list [1]\n",
        "\n",
        "#printing the second element\n",
        "print (second_element)"
      ],
      "metadata": {
        "colab": {
          "base_uri": "https://localhost:8080/"
        },
        "id": "bLHDBMXCnSi6",
        "outputId": "e7fd3e30-1e14-4b6e-e755-475729ed6847"
      },
      "execution_count": 19,
      "outputs": [
        {
          "output_type": "stream",
          "name": "stdout",
          "text": [
            "b\n"
          ]
        }
      ]
    },
    {
      "cell_type": "code",
      "source": [
        "# 10.  Write a code to reverse the list [10, 20, 30, 40, 50].\n",
        "\n",
        "# creating the list\n",
        "my_list = [10, 20, 30, 40, 50]\n",
        "\n",
        "#creating the reverse list\n",
        "\n",
        "my_reverse_list = my_list [::-1]\n",
        "\n",
        "#printing my reverse list\n",
        "print (my_reverse_list)"
      ],
      "metadata": {
        "colab": {
          "base_uri": "https://localhost:8080/"
        },
        "id": "wx0QZ374oS9H",
        "outputId": "52c6c66a-eb3b-4898-fa3d-70ea21c581f1"
      },
      "execution_count": 29,
      "outputs": [
        {
          "output_type": "stream",
          "name": "stdout",
          "text": [
            "[50, 40, 30, 20, 10]\n"
          ]
        }
      ]
    },
    {
      "cell_type": "code",
      "source": [
        "# 11.  Write a code to create a tuple with the elements 10, 20, 30 and print it.\n",
        "\n",
        "#creating my tuple\n",
        "my_tuple = (10, 20, 50)\n",
        "\n",
        "#printing my tuple\n",
        "print (my_tuple)"
      ],
      "metadata": {
        "colab": {
          "base_uri": "https://localhost:8080/"
        },
        "id": "NO3XNVs7pM9u",
        "outputId": "754f2c41-fcb5-4f0d-e4ca-a3f53d296dbb"
      },
      "execution_count": 30,
      "outputs": [
        {
          "output_type": "stream",
          "name": "stdout",
          "text": [
            "(10, 20, 50)\n"
          ]
        }
      ]
    },
    {
      "cell_type": "code",
      "source": [
        "# 12.  Write a code to access the first element of the tuple ('apple', 'banana', 'cherry').\n",
        "\n",
        "#creating my tuple\n",
        "my_tuple = ('apple', 'banana', 'cherry')\n",
        "\n",
        "#accessing the first element\n",
        "my_tuple_access = my_tuple [0]\n",
        "\n",
        "#printing the first element of the tuple\n",
        "print (my_tuple_access)"
      ],
      "metadata": {
        "colab": {
          "base_uri": "https://localhost:8080/"
        },
        "id": "SiwZkaGFpkrB",
        "outputId": "31398d7a-c722-4a01-ad11-56351f55e11b"
      },
      "execution_count": 31,
      "outputs": [
        {
          "output_type": "stream",
          "name": "stdout",
          "text": [
            "apple\n"
          ]
        }
      ]
    },
    {
      "cell_type": "code",
      "source": [
        "# 13.  Write a code to count how many times the number 2 appears in the tuple (1, 2, 3, 2, 4, 2).\n",
        "\n",
        "#creating my tuple\n",
        "my_tuple= (1, 2, 3, 2, 4, 2)\n",
        "\n",
        "#counting how many times the number 2 appears in the tuple\n",
        "count_number_2 = my_tuple.count (2)\n",
        "\n",
        "#Printing the number of times the number 2 appears in the tuple\n",
        "print (count_number_2)\n"
      ],
      "metadata": {
        "colab": {
          "base_uri": "https://localhost:8080/"
        },
        "id": "VPiKYZ1TqNQp",
        "outputId": "de8c62d9-cccd-4ad9-ebfe-9c7569a1e8f2"
      },
      "execution_count": 33,
      "outputs": [
        {
          "output_type": "stream",
          "name": "stdout",
          "text": [
            "3\n"
          ]
        }
      ]
    },
    {
      "cell_type": "code",
      "source": [
        "#14.  Write a code to find the index of the element \"cat\" in the tuple ('dog', 'cat', 'rabbit').\n",
        "\n",
        "#creating my tuple\n",
        "my_tuple = ('dog', 'cat', 'rabbit')\n",
        "\n",
        "#finding the index of the element \"cat\" in the tuple\n",
        "index_cat = my_tuple.index ('cat')\n",
        "\n",
        "#printing the index of the element \"cat\"\n",
        "print ( index_cat)"
      ],
      "metadata": {
        "colab": {
          "base_uri": "https://localhost:8080/"
        },
        "id": "ocCuk_jtq9H1",
        "outputId": "16c0e2a1-a867-44e6-d43d-c39363a8d192"
      },
      "execution_count": 39,
      "outputs": [
        {
          "output_type": "stream",
          "name": "stdout",
          "text": [
            "1\n"
          ]
        }
      ]
    },
    {
      "cell_type": "code",
      "source": [
        "# 15.  Write a code to check if the element \"banana\" is in the tuple ('apple', 'orange', 'banana').\n",
        "\n",
        "#creating my tuple = ('apple', 'orange', 'banana')\n",
        "my_tuple = ('apple', 'orange', 'banana')\n",
        "\n",
        "#checking if banana is in the element\n",
        "my_tuple_check = 'bananda in my tuple'\n",
        "\n",
        "#printing the element banana in the tuple\n",
        "print (my_tuple_check)"
      ],
      "metadata": {
        "colab": {
          "base_uri": "https://localhost:8080/"
        },
        "id": "DKfxMfqMr-ip",
        "outputId": "455192e0-1d61-4edc-92a6-5dddc17fd932"
      },
      "execution_count": 41,
      "outputs": [
        {
          "output_type": "stream",
          "name": "stdout",
          "text": [
            "bananda in my tuple\n"
          ]
        }
      ]
    },
    {
      "cell_type": "code",
      "source": [
        "# 16. Write a code to create a set with the elements 1, 2, 3, 4, 5 and print it.\n",
        "\n",
        "#creating a set of element\n",
        "my_set = {1, 2, 3, 4, 5}\n",
        "\n",
        "#printing my set\n",
        "print (my_set)"
      ],
      "metadata": {
        "colab": {
          "base_uri": "https://localhost:8080/"
        },
        "id": "C80P-Pgcsk8q",
        "outputId": "526e47ed-c5a2-4157-ad85-cb9339ced961"
      },
      "execution_count": 42,
      "outputs": [
        {
          "output_type": "stream",
          "name": "stdout",
          "text": [
            "{1, 2, 3, 4, 5}\n"
          ]
        }
      ]
    },
    {
      "cell_type": "code",
      "source": [
        "# 17. Write a code to add the element 6 to the set {1, 2, 3, 4}.\n",
        "\n",
        "# Defining the set\n",
        "my_set = {1, 2, 3, 4}\n",
        "\n",
        "# Adding the element 6 to the set\n",
        "my_set.add(6)\n",
        "\n",
        "# Printing the updated set\n",
        "print(my_set)\n"
      ],
      "metadata": {
        "colab": {
          "base_uri": "https://localhost:8080/"
        },
        "id": "uzrRKyTCtCft",
        "outputId": "8c5c16e2-a7e1-4cf8-af85-0a4db649eb3f"
      },
      "execution_count": 47,
      "outputs": [
        {
          "output_type": "stream",
          "name": "stdout",
          "text": [
            "{1, 2, 3, 4, 6}\n"
          ]
        }
      ]
    },
    {
      "cell_type": "code",
      "source": [
        "# 18.  Write a code to create a tuple with the elements 10, 20, 30 and print it.\n",
        "\n",
        "#creating a tuple\n",
        "my_tuple = (10, 20, 30)\n",
        "\n",
        "#priting my tuple\n",
        "print (my_tuple)"
      ],
      "metadata": {
        "colab": {
          "base_uri": "https://localhost:8080/"
        },
        "id": "wAfUz-0ouRx0",
        "outputId": "24654228-6bd4-4232-d401-926f184a89b4"
      },
      "execution_count": 48,
      "outputs": [
        {
          "output_type": "stream",
          "name": "stdout",
          "text": [
            "(10, 20, 30)\n"
          ]
        }
      ]
    },
    {
      "cell_type": "code",
      "source": [
        "# 19.  Write a code to access the first element of the tuple ('apple', 'banana', 'cherry').\n",
        "\n",
        "#creating a tuple\n",
        "my_tuple = ('apple', 'banana', 'cherry')\n",
        "\n",
        "#access the fist element of the tuple\n",
        "first_element = my_tuple [0]\n",
        "\n",
        "#printing my tuple access\n",
        "print (first_element)"
      ],
      "metadata": {
        "colab": {
          "base_uri": "https://localhost:8080/"
        },
        "id": "0vl9WxNmufXf",
        "outputId": "15746997-1600-4963-a469-61249ccc1f39"
      },
      "execution_count": 53,
      "outputs": [
        {
          "output_type": "stream",
          "name": "stdout",
          "text": [
            "apple\n"
          ]
        }
      ]
    },
    {
      "cell_type": "code",
      "source": [
        "# 20. Write a code to count how many times the number 2 appears in the tuple (1, 2, 3, 2, 4, 2).\n",
        "\n",
        "#creating my tuple\n",
        "my_tuple = (1, 2, 3, 2, 4, 2)\n",
        "\n",
        "#counting how many times the number 2 appears\n",
        "count_number_2 = my_tuple.count (2)\n",
        "\n",
        "#printing to count how many times the number 2 appears in the tuple\n",
        "print (count_number_2)\n"
      ],
      "metadata": {
        "colab": {
          "base_uri": "https://localhost:8080/"
        },
        "id": "0rq_KSsivoxi",
        "outputId": "bc57d59d-c49f-494e-a97f-9f0b6f56e899"
      },
      "execution_count": 56,
      "outputs": [
        {
          "output_type": "stream",
          "name": "stdout",
          "text": [
            "3\n"
          ]
        }
      ]
    },
    {
      "cell_type": "code",
      "source": [
        "# 22.  Write a code to find the index of the element \"cat\" in the tuple ('dog', 'cat', 'rabbit').\n",
        "\n",
        "#creating my tuple\n",
        "my_tuple = ('dog', 'cat', 'rabbit')\n",
        "\n",
        "#creating the index of the element cat\n",
        "\n",
        "my_tuple_index = my_tuple.index('cat')\n",
        "\n",
        "#printing the index of the element cat\n",
        "print (my_tuple_index)"
      ],
      "metadata": {
        "colab": {
          "base_uri": "https://localhost:8080/"
        },
        "id": "DT4LwzJGwU7G",
        "outputId": "3c57788f-c933-4690-f327-8465aeb15ef8"
      },
      "execution_count": 61,
      "outputs": [
        {
          "output_type": "stream",
          "name": "stdout",
          "text": [
            "1\n"
          ]
        }
      ]
    },
    {
      "cell_type": "code",
      "source": [
        "# 23. Write a code to check if the element \"banana\" is in the tuple ('apple', 'orange', 'banana').\n",
        "\n",
        "# Defining the tuple\n",
        "my_tuple = ('apple', 'orange', 'banana')\n",
        "\n",
        "# Checking if \"banana\" is in the tuple\n",
        "if 'banana' in my_tuple:\n",
        "    print(\"Yes, 'banana' is in the tuple.\")\n",
        "else:\n",
        "    print(\"No, 'banana' is not in the tuple.\")\n",
        "\n",
        "\n",
        "\n"
      ],
      "metadata": {
        "colab": {
          "base_uri": "https://localhost:8080/"
        },
        "id": "FIqMqvCqxX4I",
        "outputId": "7f338122-228b-406d-f01c-61fe0e052cf5"
      },
      "execution_count": 71,
      "outputs": [
        {
          "output_type": "stream",
          "name": "stdout",
          "text": [
            "Yes, 'banana' is in the tuple.\n"
          ]
        }
      ]
    },
    {
      "cell_type": "code",
      "source": [
        "# 24. Write a code to create a set with the elements 1, 2, 3, 4, 5 and print it.\n",
        "\n",
        "#creating a set\n",
        "my_set= {1, 2, 3, 4, 5}\n",
        "\n",
        "#printing the set\n",
        "print(my_set)\n"
      ],
      "metadata": {
        "colab": {
          "base_uri": "https://localhost:8080/"
        },
        "id": "Y-YmcQvHz6cy",
        "outputId": "6ac3071e-2168-4303-c9dd-040e1890d5e4"
      },
      "execution_count": 72,
      "outputs": [
        {
          "output_type": "stream",
          "name": "stdout",
          "text": [
            "{1, 2, 3, 4, 5}\n"
          ]
        }
      ]
    },
    {
      "cell_type": "code",
      "source": [
        "# 25. Write a code to add the element 6 to the set {1, 2, 3, 4}.\n",
        "\n",
        "#creating the set\n",
        "my_set= {1, 2, 3, 4}\n",
        "\n",
        "#adding the element 6 to the set\n",
        "\n",
        "my_set.add (6)\n",
        "\n",
        "#priting the element 6 to the set\n",
        "\n",
        "print (my_set)"
      ],
      "metadata": {
        "colab": {
          "base_uri": "https://localhost:8080/"
        },
        "id": "sGZ5EPHQ0Kva",
        "outputId": "655936dc-e364-4570-85f1-786a49372507"
      },
      "execution_count": 73,
      "outputs": [
        {
          "output_type": "stream",
          "name": "stdout",
          "text": [
            "{1, 2, 3, 4, 6}\n"
          ]
        }
      ]
    }
  ]
}